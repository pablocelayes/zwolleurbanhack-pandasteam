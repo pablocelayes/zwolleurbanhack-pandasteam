{
 "cells": [
  {
   "cell_type": "code",
   "execution_count": 5,
   "metadata": {
    "collapsed": false
   },
   "outputs": [],
   "source": [
    "%matplotlib inline\n",
    "\n",
    "from sklearn.cross_validation import train_test_split, StratifiedKFold\n",
    "from sklearn.grid_search import GridSearchCV\n",
    "from sklearn.metrics import classification_report\n",
    "from sklearn.ensemble import RandomForestClassifier\n",
    "import pandas as pd\n",
    "import pickle   \n",
    "\n",
    "import warnings\n",
    "warnings.filterwarnings('ignore')\n",
    "from clean_data import *\n"
   ]
  },
  {
   "cell_type": "code",
   "execution_count": 6,
   "metadata": {
    "collapsed": false
   },
   "outputs": [],
   "source": [
    "def load_dataset(mins_diff=5):\n",
    "    df = pd.read_csv('../data/CleanData/traveltimes_all_2014_15_16.csv')\n",
    "\n",
    "    df.tijd = pd.to_datetime(df.tijd)\n",
    "    [df[c].fillna(df[c].min(), inplace=True) for c in df.columns if c != 'tijd']\n",
    "\n",
    "    jam_threshold = df.E_F.quantile(.75)\n",
    "\n",
    "    y = (df.E_F > jam_threshold)[mins_diff:]\n",
    "    df = df.iloc[:-mins_diff,:]\n",
    "\n",
    "    del df['tijd']\n",
    "    return df, y\n",
    "\n",
    "def train_test_split(df, test_size=0.3):\n",
    "    cut = int(len(y) * test_size)\n",
    "\n",
    "    X_train = df.iloc[:-cut,:]\n",
    "    X_test = df.iloc[-cut:,:]\n",
    "\n",
    "    y_train = y[:-cut]\n",
    "    y_test = y[-cut:]\n",
    "\n",
    "    return X_train, X_test, y_train, y_test\n"
   ]
  },
  {
   "cell_type": "code",
   "execution_count": 7,
   "metadata": {
    "collapsed": true
   },
   "outputs": [],
   "source": [
    "df, y = load_dataset(mins_diff=5)"
   ]
  },
  {
   "cell_type": "code",
   "execution_count": 8,
   "metadata": {
    "collapsed": false
   },
   "outputs": [
    {
     "data": {
      "text/plain": [
       "<matplotlib.axes._subplots.AxesSubplot at 0x7f03271942e8>"
      ]
     },
     "execution_count": 8,
     "metadata": {},
     "output_type": "execute_result"
    },
    {
     "data": {
      "image/png": "[encoded data removed]",
      "text/plain": [
       "<matplotlib.figure.Figure at 0x7f0327194d68>"
      ]
     },
     "metadata": {},
     "output_type": "display_data"
    }
   ],
   "source": [
    "df.E_F.hist()"
   ]
  },
  {
   "cell_type": "code",
   "execution_count": 9,
   "metadata": {
    "collapsed": false
   },
   "outputs": [],
   "source": [
    "X_train, X_test, y_train, y_test =  train_test_split(df, test_size=0.3)"
   ]
  },
  {
   "cell_type": "code",
   "execution_count": 16,
   "metadata": {
    "collapsed": true
   },
   "outputs": [],
   "source": [
    "def train_eval_classifier(X_train, X_test, y_train, y_test):\n",
    "    params = dict(\n",
    "        max_depth=[20, 30],\n",
    "        n_estimators=[50, 70, 100],\n",
    "    )\n",
    "\n",
    "    score = 'f1'\n",
    "\n",
    "    clf = GridSearchCV(\n",
    "        RandomForestClassifier(),  \n",
    "        param_grid=params,  # parameters to tune via cross validation\n",
    "        refit=True,  # fit using all data, on the best detected classifier\n",
    "        n_jobs=-1,  # number of cores to use for parallelization; -1 for \"all cores\"\n",
    "        scoring=score,  # what score are we optimizing?\n",
    "        cv=StratifiedKFold(y_train, n_folds=3),  # what type of cross validation to use\n",
    "    )\n",
    "\n",
    "    clf.fit(X_train, y_train)\n",
    "    y_true, y_pred = y_test, clf.predict(X_test)\n",
    "    clf.best_params_\n",
    "\n",
    "    print(classification_report(y_true, y_pred))\n",
    "\n",
    "    return clf\n"
   ]
  },
  {
   "cell_type": "code",
   "execution_count": 17,
   "metadata": {
    "collapsed": false
   },
   "outputs": [
    {
     "name": "stdout",
     "output_type": "stream",
     "text": [
      "             precision    recall  f1-score   support\n",
      "\n",
      "      False       0.93      0.95      0.94    272717\n",
      "       True       0.82      0.78      0.80     84542\n",
      "\n",
      "avg / total       0.91      0.91      0.91    357259\n",
      "\n"
     ]
    },
    {
     "data": {
      "text/plain": [
       "{'max_depth': 20, 'n_estimators': 50}"
      ]
     },
     "execution_count": 17,
     "metadata": {},
     "output_type": "execute_result"
    }
   ],
   "source": [
    "clf = train_eval_classifier(X_train, X_test, y_train, y_test)\n",
    "clf.best_params_"
   ]
  },
  {
   "cell_type": "code",
   "execution_count": 13,
   "metadata": {
    "collapsed": true
   },
   "outputs": [],
   "source": [
    " with open('travel_dataset_5m.pickle','wb') as f:\n",
    "    pickle.dump((X_train,X_test,y_train,y_test),f)"
   ]
  }
 ],
 "metadata": {
  "kernelspec": {
   "display_name": "Python 3",
   "language": "python",
   "name": "python3"
  },
  "language_info": {
   "codemirror_mode": {
    "name": "ipython",
    "version": 3
   },
   "file_extension": ".py",
   "mimetype": "text/x-python",
   "name": "python",
   "nbconvert_exporter": "python",
   "pygments_lexer": "ipython3",
   "version": "3.5.1"
  }
 },
 "nbformat": 4,
 "nbformat_minor": 0
}
